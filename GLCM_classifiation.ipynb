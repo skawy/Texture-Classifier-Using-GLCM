{
 "cells": [
  {
   "cell_type": "markdown",
   "metadata": {},
   "source": [
    "## Packages"
   ]
  },
  {
   "cell_type": "code",
   "execution_count": 1,
   "metadata": {},
   "outputs": [],
   "source": [
    "import os\n",
    "import itertools"
   ]
  },
  {
   "cell_type": "code",
   "execution_count": 2,
   "metadata": {},
   "outputs": [],
   "source": [
    "import numpy as np\n",
    "import pandas as pd\n",
    "import seaborn as sn\n",
    "from matplotlib import pyplot as plt"
   ]
  },
  {
   "cell_type": "code",
   "execution_count": 3,
   "metadata": {},
   "outputs": [],
   "source": [
    "from sklearn.model_selection import train_test_split\n",
    "from sklearn.metrics import accuracy_score\n",
    "from sklearn.metrics import confusion_matrix"
   ]
  },
  {
   "cell_type": "code",
   "execution_count": 4,
   "metadata": {},
   "outputs": [],
   "source": [
    "from sklearn.neighbors import KNeighborsClassifier\n",
    "from sklearn.ensemble import RandomForestClassifier"
   ]
  },
  {
   "cell_type": "code",
   "execution_count": 5,
   "metadata": {},
   "outputs": [],
   "source": [
    "from skimage.feature import greycomatrix , greycoprops\n",
    "from skimage.io import imread\n",
    "from skimage import img_as_ubyte"
   ]
  },
  {
   "cell_type": "markdown",
   "metadata": {},
   "source": [
    "## Functions"
   ]
  },
  {
   "cell_type": "code",
   "execution_count": 6,
   "metadata": {},
   "outputs": [],
   "source": [
    "def is_jpg(file):\n",
    "    extention = file.split(sep=\".\")[-1]\n",
    "    return file if extention == \"jpg\" else None"
   ]
  },
  {
   "cell_type": "code",
   "execution_count": 7,
   "metadata": {},
   "outputs": [],
   "source": [
    "def filter_jpgs(files):\n",
    "    '''\n",
    "    return jpgs files and ignore non jpgs\n",
    "\n",
    "    Parameters:\n",
    "            (files): array of file names\n",
    "\n",
    "    Returns:\n",
    "            (filtered_files):  jpgs files only \n",
    "    '''\n",
    "    filtered_files = [file for file in files if is_jpg(file)]\n",
    "    return filtered_files"
   ]
  },
  {
   "cell_type": "code",
   "execution_count": 8,
   "metadata": {},
   "outputs": [],
   "source": [
    "def images_paths(dataset_folder):\n",
    "    '''\n",
    "    return list of all images paths from each folder In This dataset \n",
    "\n",
    "    Parameters:\n",
    "            (dataset_folder): Main Folder For This dataset\n",
    "\n",
    "    Returns:\n",
    "            (images_paths): np array contains every path for every image.\n",
    "\n",
    "    '''\n",
    "    existing_folders = sorted(os.listdir(f'{dataset_folder}'))\n",
    "    print(f'Existing Folders Or Labels are: {\", \".join(existing_folders)}')\n",
    "    \n",
    "    paths_dict = {folder : sorted(os.listdir(f'{path}/{folder}')) for folder in existing_folders } # { folder : its_images }\n",
    "    print(f'First Folder is: { list(paths_dict.keys())[0] }, Its First Two Images: { list(paths_dict.values())[0][:2] } :')\n",
    "    \n",
    "    images_paths = np.array([], dtype = str)\n",
    "    \n",
    "    for folder , files in paths_dict.items():\n",
    "        cur_folder_paths = [f'{dataset_folder}/{folder}/{file}' for file in files if is_jpg(file) ]\n",
    "        images_paths = np.concatenate( (images_paths, cur_folder_paths), axis=0 )\n",
    "    \n",
    "    return images_paths"
   ]
  },
  {
   "cell_type": "code",
   "execution_count": 9,
   "metadata": {},
   "outputs": [],
   "source": [
    "def images_labels(dataset_folder):\n",
    "    '''\n",
    "    return list of all labels In This dataset \n",
    "\n",
    "    Parameters:\n",
    "            (dataset_folder): Main Folder For This dataset\n",
    "\n",
    "    Returns:\n",
    "            (images_labels): np array contains every label for every image\n",
    "    '''\n",
    "    data_folders = sorted(os.listdir(f'{dataset_folder}'))\n",
    "    \n",
    "    labels = np.array([], dtype = np.uint8)\n",
    "\n",
    "    for i,folder in enumerate(data_folders):\n",
    "        images = filter_jpgs( sorted(os.listdir(f'{path}/{folder}') ) )\n",
    "        cur_labels = np.full( len(images) , i)\n",
    "        labels = np.concatenate( (labels, cur_labels)  , axis = 0 )\n",
    "        \n",
    "    return labels"
   ]
  },
  {
   "cell_type": "code",
   "execution_count": 10,
   "metadata": {},
   "outputs": [],
   "source": [
    "def features_extraction(image):\n",
    "    grey_img = imread(image , as_gray=True)\n",
    "    ubyte_img = img_as_ubyte(grey_img)\n",
    "    \n",
    "    features = []\n",
    "    distances = [1,3,5]\n",
    "    angels = [0 , np.pi/4 , np.pi/2]\n",
    "    \n",
    "    combinations = list(itertools.product(distances, angels))\n",
    "\n",
    "    for distance , angel in combinations:\n",
    "        \n",
    "        comatrix = greycomatrix(ubyte_img,[distance], [angel], 256, symmetric=True, normed=True)\n",
    "\n",
    "        contrast= greycoprops(comatrix, 'contrast')[0][0]\n",
    "        energy= greycoprops(comatrix, 'energy')[0][0]\n",
    "        homogeneity= greycoprops(comatrix, 'homogeneity')[0][0]\n",
    "        dissimilarity= greycoprops(comatrix, 'dissimilarity')[0][0]\n",
    "        correlation=greycoprops(comatrix, 'correlation')[0][0]\n",
    "        \n",
    "        features.append(contrast)\n",
    "        features.append(energy)\n",
    "        features.append(homogeneity)\n",
    "        features.append(dissimilarity)\n",
    "        features.append(correlation)\n",
    "\n",
    "    return features"
   ]
  },
  {
   "cell_type": "code",
   "execution_count": 12,
   "metadata": {},
   "outputs": [],
   "source": [
    "def KNN(train_features, test_features, train_labels):\n",
    "    \"\"\"\n",
    "        return predicted lablels to be compared with the test label\n",
    "    \"\"\"\n",
    "    knn = KNeighborsClassifier(10, metric='euclidean')\n",
    "    knn.fit(train_features, train_labels)  # fit train data\n",
    "    prediction = knn.predict(test_features)  # test data\n",
    "    return prediction"
   ]
  },
  {
   "cell_type": "markdown",
   "metadata": {},
   "source": [
    "## Loading Data"
   ]
  },
  {
   "cell_type": "code",
   "execution_count": 13,
   "metadata": {},
   "outputs": [],
   "source": [
    "path = './FMD/image'"
   ]
  },
  {
   "cell_type": "code",
   "execution_count": 14,
   "metadata": {},
   "outputs": [
    {
     "name": "stdout",
     "output_type": "stream",
     "text": [
      "Existing Folders Or Labels are: fabric, foliage, glass, leather, metal, paper, plastic, stone, water, wood\n",
      "First Folder is: fabric, Its First Two Images: ['A.jpgest.rtf', 'fabric_moderate_001_new.jpg'] :\n"
     ]
    }
   ],
   "source": [
    "images_paths = images_paths(path)\n",
    "images_labels = images_labels(path)"
   ]
  },
  {
   "cell_type": "code",
   "execution_count": 15,
   "metadata": {
    "scrolled": false
   },
   "outputs": [
    {
     "data": {
      "text/plain": [
       "array(['./FMD/image/fabric/fabric_moderate_001_new.jpg',\n",
       "       './FMD/image/fabric/fabric_moderate_002_new.jpg',\n",
       "       './FMD/image/fabric/fabric_moderate_003_new.jpg',\n",
       "       './FMD/image/fabric/fabric_moderate_004_new.jpg',\n",
       "       './FMD/image/fabric/fabric_moderate_005_new.jpg',\n",
       "       './FMD/image/fabric/fabric_moderate_006_new.jpg',\n",
       "       './FMD/image/fabric/fabric_moderate_007_new.jpg',\n",
       "       './FMD/image/fabric/fabric_moderate_008_new.jpg',\n",
       "       './FMD/image/fabric/fabric_moderate_009_new.jpg',\n",
       "       './FMD/image/fabric/fabric_moderate_010_new.jpg'], dtype='<U48')"
      ]
     },
     "execution_count": 15,
     "metadata": {},
     "output_type": "execute_result"
    }
   ],
   "source": [
    "images_paths[:10]"
   ]
  },
  {
   "cell_type": "code",
   "execution_count": 16,
   "metadata": {},
   "outputs": [
    {
     "data": {
      "text/plain": [
       "array([0, 0, 0, 0, 0, 0, 0, 0, 0, 0])"
      ]
     },
     "execution_count": 16,
     "metadata": {},
     "output_type": "execute_result"
    }
   ],
   "source": [
    "images_labels[:10]"
   ]
  },
  {
   "cell_type": "code",
   "execution_count": 17,
   "metadata": {
    "scrolled": true
   },
   "outputs": [
    {
     "data": {
      "text/plain": [
       "True"
      ]
     },
     "execution_count": 17,
     "metadata": {},
     "output_type": "execute_result"
    }
   ],
   "source": [
    "len(images_paths) == len(images_labels)"
   ]
  },
  {
   "cell_type": "markdown",
   "metadata": {},
   "source": [
    "### Feature Extraction"
   ]
  },
  {
   "cell_type": "code",
   "execution_count": 18,
   "metadata": {},
   "outputs": [],
   "source": [
    "features = np.array( [features_extraction(path) for path in images_paths] )"
   ]
  },
  {
   "cell_type": "code",
   "execution_count": 19,
   "metadata": {
    "scrolled": true
   },
   "outputs": [
    {
     "data": {
      "text/plain": [
       "array([[3.77720661e+02, 1.04789788e-02, 8.92870990e-02, 1.41099713e+01,\n",
       "        9.46825750e-01, 9.28953115e+02, 8.15351421e-03, 5.53279701e-02,\n",
       "        2.25460291e+01, 8.69264673e-01, 7.25395765e+02, 8.44423436e-03,\n",
       "        5.88876933e-02, 2.03269215e+01, 8.97878203e-01, 1.46397878e+03,\n",
       "        7.32718056e-03, 4.35049765e-02, 2.87038771e+01, 7.94067345e-01,\n",
       "        1.81709425e+03, 6.90594736e-03, 3.88204954e-02, 3.20157119e+01,\n",
       "        7.44391379e-01, 2.36761530e+03, 6.35529080e-03, 3.01648135e-02,\n",
       "        3.74787053e+01, 6.66763349e-01, 2.37087548e+03, 6.46408835e-03,\n",
       "        3.27635661e-02, 3.70974534e+01, 6.66777094e-01, 2.97613316e+03,\n",
       "        6.14402824e-03, 2.82524762e-02, 4.16031807e+01, 5.81859483e-01,\n",
       "        2.99143446e+03, 6.09445717e-03, 2.69982857e-02, 4.19266676e+01,\n",
       "        5.79249480e-01],\n",
       "       [2.09584455e+01, 3.32863484e-02, 5.12603565e-01, 2.06974682e+00,\n",
       "        9.96769163e-01, 5.26352516e+01, 2.80158007e-02, 4.07909846e-01,\n",
       "        3.18355449e+00, 9.91885530e-01, 4.38906454e+01, 3.05119325e-02,\n",
       "        4.59856597e-01, 2.78108681e+00, 9.93230756e-01, 1.08649507e+02,\n",
       "        2.28877839e-02, 2.89822861e-01, 5.19325065e+00, 9.83266202e-01,\n",
       "        1.39077266e+02, 2.26264778e-02, 2.86954009e-01, 5.47700955e+00,\n",
       "        9.78567210e-01, 2.18694759e+02, 2.11782704e-02, 2.52794367e-01,\n",
       "        6.97749549e+00, 9.66266260e-01, 2.13486404e+02, 1.93979918e-02,\n",
       "        2.15303559e-01, 7.81886403e+00, 9.67149967e-01, 3.31933625e+02,\n",
       "        1.82776388e-02, 1.96317823e-01, 9.38842209e+00, 9.48884880e-01,\n",
       "        4.11957315e+02, 1.79189092e-02, 1.85040928e-01, 1.04960989e+01,\n",
       "        9.36447700e-01]])"
      ]
     },
     "execution_count": 19,
     "metadata": {},
     "output_type": "execute_result"
    }
   ],
   "source": [
    "features[:2]"
   ]
  },
  {
   "cell_type": "code",
   "execution_count": 20,
   "metadata": {
    "scrolled": true
   },
   "outputs": [
    {
     "data": {
      "text/plain": [
       "array([[2.13999847e+02, 7.55581422e-02, 6.12895558e-01, 3.64582314e+00,\n",
       "        9.65522117e-01, 2.47790796e+02, 7.29514179e-02, 5.68049535e-01,\n",
       "        4.12040079e+00, 9.60069600e-01, 4.45741678e+01, 8.32586922e-02,\n",
       "        7.56580891e-01, 1.58711039e+00, 9.92814285e-01, 8.79061584e+02,\n",
       "        6.63012555e-02, 3.84552471e-01, 9.17054989e+00, 8.58479290e-01,\n",
       "        6.31357489e+02, 6.74879132e-02, 4.21142584e-01, 7.35327995e+00,\n",
       "        8.98277118e-01, 2.54647792e+02, 7.25574673e-02, 5.57133911e-01,\n",
       "        4.10209564e+00, 9.58930805e-01, 1.41197090e+03, 6.28360929e-02,\n",
       "        2.89244366e-01, 1.35451903e+01, 7.72858327e-01, 1.29463527e+03,\n",
       "        6.30696527e-02, 2.86137103e-01, 1.25626606e+01, 7.91489137e-01,\n",
       "        4.95056682e+02, 6.88339150e-02, 4.58196794e-01, 6.14031064e+00,\n",
       "        9.20124642e-01],\n",
       "       [5.14369088e+01, 5.02227451e-02, 5.25398444e-01, 3.26167034e+00,\n",
       "        9.91237365e-01, 1.04536459e+02, 4.35625225e-02, 4.48413329e-01,\n",
       "        4.55323867e+00, 9.82204442e-01, 5.82465782e+01, 5.07631126e-02,\n",
       "        5.27848513e-01, 3.19273723e+00, 9.90076979e-01, 3.20254308e+02,\n",
       "        3.68666299e-02, 3.61334315e-01, 8.46788024e+00, 9.45525697e-01,\n",
       "        3.14063453e+02, 3.54468541e-02, 3.43297578e-01, 8.10631352e+00,\n",
       "        9.46615444e-01, 3.34159444e+02, 3.70474702e-02, 3.45842097e-01,\n",
       "        8.18101521e+00, 9.43155518e-01, 6.81419060e+02, 3.18308336e-02,\n",
       "        2.94197125e-01, 1.30509430e+01, 8.84248841e-01, 8.07370255e+02,\n",
       "        2.88402329e-02, 2.50143881e-01, 1.41107750e+01, 8.63172720e-01,\n",
       "        6.45752170e+02, 3.19539442e-02, 2.72298755e-01, 1.21984303e+01,\n",
       "        8.90322607e-01]])"
      ]
     },
     "execution_count": 20,
     "metadata": {},
     "output_type": "execute_result"
    }
   ],
   "source": [
    "features[200:202]"
   ]
  },
  {
   "cell_type": "markdown",
   "metadata": {},
   "source": [
    "### Splitting The Data"
   ]
  },
  {
   "cell_type": "code",
   "execution_count": 64,
   "metadata": {
    "scrolled": true
   },
   "outputs": [
    {
     "name": "stdout",
     "output_type": "stream",
     "text": [
      "(700, 45) (300, 45) (700,) (300,)\n"
     ]
    }
   ],
   "source": [
    "X_train, X_test, y_train, y_test = train_test_split(features, images_labels, test_size=0.3)\n",
    "print(X_train.shape, X_test.shape, y_train.shape, y_test.shape)"
   ]
  },
  {
   "cell_type": "markdown",
   "metadata": {},
   "source": [
    "### KNN Claasification"
   ]
  },
  {
   "cell_type": "code",
   "execution_count": 22,
   "metadata": {
    "scrolled": true
   },
   "outputs": [],
   "source": [
    "Knn_predictions = KNN(X_train, X_test , y_train )"
   ]
  },
  {
   "cell_type": "code",
   "execution_count": 23,
   "metadata": {
    "scrolled": false
   },
   "outputs": [
    {
     "name": "stdout",
     "output_type": "stream",
     "text": [
      "Accuracy Score = 15.333333333333332 %\n"
     ]
    }
   ],
   "source": [
    "print(\"Accuracy Score =\", accuracy_score(y_test, Knn_predictions) * 100, \"%\")"
   ]
  },
  {
   "cell_type": "markdown",
   "metadata": {},
   "source": [
    "### Random Forest Claasification"
   ]
  },
  {
   "cell_type": "code",
   "execution_count": 98,
   "metadata": {},
   "outputs": [
    {
     "name": "stdout",
     "output_type": "stream",
     "text": [
      "Random Forest Model accuracy score: 0.2800\n"
     ]
    }
   ],
   "source": [
    "RandomForest_clf = RandomForestClassifier(n_estimators=100)\n",
    "\n",
    "RandomForest_clf.fit(X_train,y_train)\n",
    "\n",
    "y_pred=RandomForest_clf.predict(X_test)\n",
    "\n",
    "print('Random Forest Model accuracy score: {0:0.4f}'.format(accuracy_score(y_test, y_pred)))"
   ]
  },
  {
   "cell_type": "markdown",
   "metadata": {},
   "source": [
    "## Visualizations"
   ]
  },
  {
   "cell_type": "code",
   "execution_count": 25,
   "metadata": {
    "scrolled": true
   },
   "outputs": [],
   "source": [
    "confusion_matrix = confusion_matrix(y_test, Knn_predictions)"
   ]
  },
  {
   "cell_type": "code",
   "execution_count": 26,
   "metadata": {},
   "outputs": [
    {
     "data": {
      "image/png": "[encoded data removed]",
      "text/plain": [
       "<Figure size 720x504 with 2 Axes>"
      ]
     },
     "metadata": {
      "needs_background": "light"
     },
     "output_type": "display_data"
    }
   ],
   "source": [
    "confusion_matrix_as_df = pd.DataFrame(confusion_matrix, range(10), range(10))\n",
    "plt.figure(figsize=(10,7))\n",
    "sn.set(font_scale=1.4) # for label size\n",
    "sn.heatmap(confusion_matrix_as_df, annot=True, annot_kws={\"size\": 16}) # font size\n",
    "\n",
    "plt.show()"
   ]
  },
  {
   "cell_type": "markdown",
   "metadata": {},
   "source": [
    "## Features Importances"
   ]
  },
  {
   "cell_type": "code",
   "execution_count": 28,
   "metadata": {},
   "outputs": [
    {
     "name": "stdout",
     "output_type": "stream",
     "text": [
      "Feature: 0, Score: 0.02378\n",
      "Feature: 1, Score: 0.02141\n",
      "Feature: 2, Score: 0.03134\n",
      "Feature: 3, Score: 0.02944\n",
      "Feature: 4, Score: 0.02066\n",
      "Feature: 5, Score: 0.02139\n",
      "Feature: 6, Score: 0.01812\n",
      "Feature: 7, Score: 0.02221\n",
      "Feature: 8, Score: 0.02566\n",
      "Feature: 9, Score: 0.02137\n",
      "Feature: 10, Score: 0.02544\n",
      "Feature: 11, Score: 0.01942\n",
      "Feature: 12, Score: 0.02837\n",
      "Feature: 13, Score: 0.02521\n",
      "Feature: 14, Score: 0.02613\n",
      "Feature: 15, Score: 0.02448\n",
      "Feature: 16, Score: 0.01923\n",
      "Feature: 17, Score: 0.02192\n",
      "Feature: 18, Score: 0.02344\n",
      "Feature: 19, Score: 0.02310\n",
      "Feature: 20, Score: 0.01923\n",
      "Feature: 21, Score: 0.01794\n",
      "Feature: 22, Score: 0.01947\n",
      "Feature: 23, Score: 0.01892\n",
      "Feature: 24, Score: 0.02042\n",
      "Feature: 25, Score: 0.02086\n",
      "Feature: 26, Score: 0.01923\n",
      "Feature: 27, Score: 0.02474\n",
      "Feature: 28, Score: 0.01772\n",
      "Feature: 29, Score: 0.02109\n",
      "Feature: 30, Score: 0.02332\n",
      "Feature: 31, Score: 0.02025\n",
      "Feature: 32, Score: 0.02424\n",
      "Feature: 33, Score: 0.02306\n",
      "Feature: 34, Score: 0.02496\n",
      "Feature: 35, Score: 0.02237\n",
      "Feature: 36, Score: 0.01800\n",
      "Feature: 37, Score: 0.02263\n",
      "Feature: 38, Score: 0.02084\n",
      "Feature: 39, Score: 0.01952\n",
      "Feature: 40, Score: 0.02359\n",
      "Feature: 41, Score: 0.01929\n",
      "Feature: 42, Score: 0.02362\n",
      "Feature: 43, Score: 0.01910\n",
      "Feature: 44, Score: 0.02348\n"
     ]
    },
    {
     "data": {
      "text/plain": [
       "<matplotlib.axes._subplots.AxesSubplot at 0x2abb2919a60>"
      ]
     },
     "execution_count": 28,
     "metadata": {},
     "output_type": "execute_result"
    },
    {
     "data": {
      "image/png": "[encoded data removed]",
      "text/plain": [
       "<Figure size 1008x720 with 1 Axes>"
      ]
     },
     "metadata": {},
     "output_type": "display_data"
    }
   ],
   "source": [
    "importances = RandomForest_clf.feature_importances_\n",
    "# summarize feature importance\n",
    "for i,v in enumerate(importances):\n",
    "\tprint('Feature: %0d, Score: %.5f' % (i,v))\n",
    " \n",
    "pd.Series(importances).plot(kind='barh' , figsize=(14, 10))\n",
    "\n"
   ]
  }
 ],
 "metadata": {
  "kernelspec": {
   "display_name": "Python 3",
   "language": "python",
   "name": "python3"
  },
  "language_info": {
   "codemirror_mode": {
    "name": "ipython",
    "version": 3
   },
   "file_extension": ".py",
   "mimetype": "text/x-python",
   "name": "python",
   "nbconvert_exporter": "python",
   "pygments_lexer": "ipython3",
   "version": "3.8.3"
  }
 },
 "nbformat": 4,
 "nbformat_minor": 4
}
